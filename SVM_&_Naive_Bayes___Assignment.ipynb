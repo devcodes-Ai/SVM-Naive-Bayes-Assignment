{
  "nbformat": 4,
  "nbformat_minor": 0,
  "metadata": {
    "colab": {
      "provenance": []
    },
    "kernelspec": {
      "name": "python3",
      "display_name": "Python 3"
    },
    "language_info": {
      "name": "python"
    }
  },
  "cells": [
    {
      "cell_type": "markdown",
      "source": [
        "Question 6: Python Program – SVM with Linear Kernel (Iris Dataset)\n"
      ],
      "metadata": {
        "id": "ENLaETOGTSrc"
      }
    },
    {
      "cell_type": "code",
      "execution_count": 1,
      "metadata": {
        "colab": {
          "base_uri": "https://localhost:8080/"
        },
        "id": "IFiou432S-cp",
        "outputId": "872dc8a2-7813-4a45-e402-a3d5c05bf55e"
      },
      "outputs": [
        {
          "output_type": "stream",
          "name": "stdout",
          "text": [
            "Model Accuracy: 1.0\n",
            "Support Vectors: [[4.8 3.4 1.9 0.2]\n",
            " [5.1 3.3 1.7 0.5]\n",
            " [4.5 2.3 1.3 0.3]\n",
            " [5.6 3.  4.5 1.5]\n",
            " [5.4 3.  4.5 1.5]\n",
            " [6.7 3.  5.  1.7]\n",
            " [5.9 3.2 4.8 1.8]\n",
            " [5.1 2.5 3.  1.1]\n",
            " [6.  2.7 5.1 1.6]\n",
            " [6.3 2.5 4.9 1.5]\n",
            " [6.1 2.9 4.7 1.4]\n",
            " [6.5 2.8 4.6 1.5]\n",
            " [6.9 3.1 4.9 1.5]\n",
            " [6.3 2.3 4.4 1.3]\n",
            " [6.3 2.8 5.1 1.5]\n",
            " [6.3 2.7 4.9 1.8]\n",
            " [6.  3.  4.8 1.8]\n",
            " [6.  2.2 5.  1.5]\n",
            " [6.2 2.8 4.8 1.8]\n",
            " [6.5 3.  5.2 2. ]\n",
            " [7.2 3.  5.8 1.6]\n",
            " [5.6 2.8 4.9 2. ]\n",
            " [5.9 3.  5.1 1.8]\n",
            " [4.9 2.5 4.5 1.7]]\n"
          ]
        }
      ],
      "source": [
        "from sklearn.datasets import load_iris\n",
        "from sklearn.svm import SVC\n",
        "from sklearn.model_selection import train_test_split\n",
        "from sklearn.metrics import accuracy_score\n",
        "\n",
        "# Load dataset\n",
        "iris = load_iris()\n",
        "X, y = iris.data, iris.target\n",
        "\n",
        "# Split dataset\n",
        "X_train, X_test, y_train, y_test = train_test_split(X, y, test_size=0.3, random_state=42)\n",
        "\n",
        "# Train SVM with linear kernel\n",
        "svm_linear = SVC(kernel=\"linear\", random_state=42)\n",
        "svm_linear.fit(X_train, y_train)\n",
        "\n",
        "# Predictions\n",
        "y_pred = svm_linear.predict(X_test)\n",
        "accuracy = accuracy_score(y_test, y_pred)\n",
        "\n",
        "print(\"Model Accuracy:\", accuracy)\n",
        "print(\"Support Vectors:\", svm_linear.support_vectors_)\n"
      ]
    },
    {
      "cell_type": "markdown",
      "source": [
        "Question 7: Python Program – Gaussian Naïve Bayes (Breast Cancer Dataset)"
      ],
      "metadata": {
        "id": "Cq7jwhXQTcBD"
      }
    },
    {
      "cell_type": "code",
      "source": [
        "from sklearn.datasets import load_breast_cancer\n",
        "from sklearn.naive_bayes import GaussianNB\n",
        "from sklearn.metrics import classification_report\n",
        "\n",
        "# Load dataset\n",
        "data = load_breast_cancer()\n",
        "X, y = data.data, data.target\n",
        "\n",
        "# Train Gaussian Naïve Bayes\n",
        "gnb = GaussianNB()\n",
        "gnb.fit(X, y)\n",
        "\n",
        "# Predictions\n",
        "y_pred = gnb.predict(X)\n",
        "\n",
        "# Classification report\n",
        "print(classification_report(y, y_pred, target_names=data.target_names))\n"
      ],
      "metadata": {
        "colab": {
          "base_uri": "https://localhost:8080/"
        },
        "id": "avLUv8raTfOT",
        "outputId": "bd81bc87-7bb0-41f8-fc03-996ac4c76d09"
      },
      "execution_count": 2,
      "outputs": [
        {
          "output_type": "stream",
          "name": "stdout",
          "text": [
            "              precision    recall  f1-score   support\n",
            "\n",
            "   malignant       0.95      0.89      0.92       212\n",
            "      benign       0.94      0.97      0.95       357\n",
            "\n",
            "    accuracy                           0.94       569\n",
            "   macro avg       0.94      0.93      0.94       569\n",
            "weighted avg       0.94      0.94      0.94       569\n",
            "\n"
          ]
        }
      ]
    },
    {
      "cell_type": "markdown",
      "source": [
        "Question 8: Python Program – SVM with GridSearchCV (Wine Dataset)"
      ],
      "metadata": {
        "id": "ppypUC5lTjaD"
      }
    },
    {
      "cell_type": "code",
      "source": [
        "from sklearn.datasets import load_wine\n",
        "from sklearn.model_selection import train_test_split, GridSearchCV\n",
        "from sklearn.svm import SVC\n",
        "\n",
        "# Load dataset\n",
        "wine = load_wine()\n",
        "X, y = wine.data, wine.target\n",
        "\n",
        "# Train-test split\n",
        "X_train, X_test, y_train, y_test = train_test_split(X, y, test_size=0.3, random_state=42)\n",
        "\n",
        "# Parameter grid\n",
        "param_grid = {'C': [0.1, 1, 10], 'gamma': [0.001, 0.01, 0.1], 'kernel': ['rbf']}\n",
        "\n",
        "# GridSearch\n",
        "grid = GridSearchCV(SVC(), param_grid, cv=5)\n",
        "grid.fit(X_train, y_train)\n",
        "\n",
        "print(\"Best Parameters:\", grid.best_params_)\n",
        "print(\"Best Accuracy:\", grid.best_score_)\n"
      ],
      "metadata": {
        "colab": {
          "base_uri": "https://localhost:8080/"
        },
        "id": "s0qtX6axTmPF",
        "outputId": "eff2f8c2-325d-48cf-a83a-3b47d7f63950"
      },
      "execution_count": 3,
      "outputs": [
        {
          "output_type": "stream",
          "name": "stdout",
          "text": [
            "Best Parameters: {'C': 10, 'gamma': 0.001, 'kernel': 'rbf'}\n",
            "Best Accuracy: 0.6946666666666667\n"
          ]
        }
      ]
    },
    {
      "cell_type": "markdown",
      "source": [
        "Question 9: Python Program – Naïve Bayes on Text Dataset (20 Newsgroups)"
      ],
      "metadata": {
        "id": "enNr1m33Tn2m"
      }
    },
    {
      "cell_type": "code",
      "source": [
        "from sklearn.datasets import fetch_20newsgroups\n",
        "from sklearn.feature_extraction.text import TfidfVectorizer\n",
        "from sklearn.naive_bayes import MultinomialNB\n",
        "from sklearn.metrics import roc_auc_score\n",
        "from sklearn.model_selection import train_test_split\n",
        "from sklearn.preprocessing import label_binarize\n",
        "\n",
        "# Load dataset\n",
        "data = fetch_20newsgroups(subset='train', categories=['sci.space', 'rec.autos'], remove=('headers','footers','quotes'))\n",
        "X, y = data.data, data.target\n",
        "\n",
        "# Text vectorization\n",
        "vectorizer = TfidfVectorizer()\n",
        "X_vec = vectorizer.fit_transform(X)\n",
        "\n",
        "# Train-test split\n",
        "X_train, X_test, y_train, y_test = train_test_split(X_vec, y, test_size=0.3, random_state=42)\n",
        "\n",
        "# Train Naive Bayes\n",
        "nb = MultinomialNB()\n",
        "nb.fit(X_train, y_train)\n",
        "\n",
        "# Predictions\n",
        "y_pred = nb.predict_proba(X_test)\n",
        "\n",
        "# ROC-AUC\n",
        "y_test_bin = label_binarize(y_test, classes=[0,1])\n",
        "roc_auc = roc_auc_score(y_test_bin, y_pred[:,1])\n",
        "\n",
        "print(\"ROC-AUC Score:\", roc_auc)\n"
      ],
      "metadata": {
        "colab": {
          "base_uri": "https://localhost:8080/"
        },
        "id": "K0iYZBuDTqBc",
        "outputId": "e4b0a368-eca8-4d84-f7d2-9c2eac673a6d"
      },
      "execution_count": 4,
      "outputs": [
        {
          "output_type": "stream",
          "name": "stdout",
          "text": [
            "ROC-AUC Score: 0.9777370185314023\n"
          ]
        }
      ]
    },
    {
      "cell_type": "markdown",
      "source": [
        "Question 10: Email Spam Classification (Code)"
      ],
      "metadata": {
        "id": "WXpVYU99Ty4M"
      }
    },
    {
      "cell_type": "code",
      "source": [
        "# Q10 - Naive Bayes Classification with safe probability handling\n",
        "\n",
        "import numpy as np\n",
        "import pandas as pd\n",
        "from sklearn.model_selection import train_test_split\n",
        "from sklearn.naive_bayes import GaussianNB\n",
        "from sklearn.metrics import accuracy_score, classification_report, roc_auc_score\n",
        "\n",
        "# -----------------------------\n",
        "# Sample dataset (replace with your own CSV if needed)\n",
        "# -----------------------------\n",
        "# For demo: binary classification dataset\n",
        "from sklearn.datasets import make_classification\n",
        "X, y = make_classification(n_samples=200, n_features=5, n_classes=2, random_state=42)\n",
        "\n",
        "# -----------------------------\n",
        "# Train/Test Split\n",
        "# -----------------------------\n",
        "X_train, X_test, y_train, y_test = train_test_split(X, y, test_size=0.3, random_state=42, stratify=y)\n",
        "\n",
        "# -----------------------------\n",
        "# Train Naive Bayes\n",
        "# -----------------------------\n",
        "nb = GaussianNB()\n",
        "nb.fit(X_train, y_train)\n",
        "\n",
        "# -----------------------------\n",
        "# Predictions\n",
        "# -----------------------------\n",
        "y_pred = nb.predict(X_test)\n",
        "\n",
        "# Safe probability handling\n",
        "if len(nb.classes_) > 1 and 1 in nb.classes_:\n",
        "    class_index = list(nb.classes_).index(1)  # find where class '1' is stored\n",
        "    y_prob = nb.predict_proba(X_test)[:, class_index]\n",
        "else:\n",
        "    # If only one class was seen in training\n",
        "    y_prob = np.zeros(len(X_test))\n",
        "\n",
        "# -----------------------------\n",
        "# Evaluation\n",
        "# -----------------------------\n",
        "print(\"Accuracy:\", accuracy_score(y_test, y_pred))\n",
        "print(\"\\nClassification Report:\\n\", classification_report(y_test, y_pred))\n",
        "\n",
        "# ROC AUC only works if both classes are present in y_test\n",
        "if len(np.unique(y_test)) > 1:\n",
        "    print(\"ROC AUC:\", roc_auc_score(y_test, y_prob))\n",
        "else:\n",
        "    print(\"ROC AUC: Cannot be computed (only one class in y_test)\")\n",
        "\n"
      ],
      "metadata": {
        "colab": {
          "base_uri": "https://localhost:8080/"
        },
        "id": "sCKWeECXT4jm",
        "outputId": "b22aeffc-6b03-40fd-b103-5e497bac25af"
      },
      "execution_count": 6,
      "outputs": [
        {
          "output_type": "stream",
          "name": "stdout",
          "text": [
            "Accuracy: 0.85\n",
            "\n",
            "Classification Report:\n",
            "               precision    recall  f1-score   support\n",
            "\n",
            "           0       0.86      0.83      0.85        30\n",
            "           1       0.84      0.87      0.85        30\n",
            "\n",
            "    accuracy                           0.85        60\n",
            "   macro avg       0.85      0.85      0.85        60\n",
            "weighted avg       0.85      0.85      0.85        60\n",
            "\n",
            "ROC AUC: 0.9266666666666665\n"
          ]
        }
      ]
    }
  ]
}